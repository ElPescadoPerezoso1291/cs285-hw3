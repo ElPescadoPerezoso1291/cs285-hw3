{
  "nbformat": 4,
  "nbformat_minor": 0,
  "metadata": {
    "colab": {
      "provenance": []
    },
    "kernelspec": {
      "name": "python3",
      "display_name": "Python 3"
    },
    "language_info": {
      "name": "python"
    }
  },
  "cells": [
    {
      "cell_type": "code",
      "execution_count": null,
      "metadata": {
        "id": "A5ileKEtNiTh"
      },
      "outputs": [],
      "source": [
        "import matplotlib.pyplot as plt\n",
        "import pandas as pd\n",
        "import seaborn as sns"
      ]
    },
    {
      "cell_type": "code",
      "source": [
        "cartpole = pd.read_csv(\"cartpole.csv\")\n",
        "cartpole_na = pd.read_csv(\"cartpole_na.csv\")\n",
        "cartpole_rtg = pd.read_csv(\"cartpole_rtg.csv\")\n",
        "cartpole_rtg_na = pd.read_csv(\"cartpole_rtg_na.csv\")\n",
        "cartpole_steps = pd.read_csv(\"train_env_steps_cartpole.csv\")"
      ],
      "metadata": {
        "id": "YcdJdwc7NnDG"
      },
      "execution_count": null,
      "outputs": []
    },
    {
      "cell_type": "code",
      "source": [
        "sns.lineplot(x = cartpole_steps[\"Value\"], y = cartpole[\"Value\"], label = \"pg\")\n",
        "sns.lineplot(x = cartpole_steps[\"Value\"], y = cartpole_na[\"Value\"], label = \"pg+na\")\n",
        "sns.lineplot(x = cartpole_steps[\"Value\"], y = cartpole_rtg[\"Value\"], label = \"pg+rtg\")\n",
        "sns.lineplot(x = cartpole_steps[\"Value\"], y = cartpole_rtg_na[\"Value\"], label = \"pg+na+rtg\")\n",
        "plt.xlabel(\"Training Environment Steps\")\n",
        "plt.ylabel(\"Average Reward\")\n",
        "plt.title(\"Cartpole Batch Size = 1000\")\n",
        "plt.legend()"
      ],
      "metadata": {
        "id": "lRnjW6BvN7Sz"
      },
      "execution_count": null,
      "outputs": []
    },
    {
      "cell_type": "code",
      "source": [
        "cartpole = pd.read_csv(\"cartpole_lb.csv\")\n",
        "cartpole_na = pd.read_csv(\"cartpole_na_lb.csv\")\n",
        "cartpole_rtg = pd.read_csv(\"cartpole_rtg_lb.csv\")\n",
        "cartpole_rtg_na = pd.read_csv(\"cartpole_rtg_na_lb.csv\")\n"
      ],
      "metadata": {
        "id": "RrnSRq9gN930"
      },
      "execution_count": null,
      "outputs": []
    },
    {
      "cell_type": "code",
      "source": [
        "sns.lineplot(x = cartpole_steps[\"Value\"], y = cartpole[\"Value\"], label = \"pg\")\n",
        "sns.lineplot(x = cartpole_steps[\"Value\"], y = cartpole_na[\"Value\"], label = \"pg+na\")\n",
        "sns.lineplot(x = cartpole_steps[\"Value\"], y = cartpole_rtg[\"Value\"], label = \"pg+rtg\")\n",
        "sns.lineplot(x = cartpole_steps[\"Value\"], y = cartpole_rtg_na[\"Value\"], label = \"pg+na+rtg\")\n",
        "plt.xlabel(\"Training Environment Steps\")\n",
        "plt.ylabel(\"Average Reward\")\n",
        "plt.title(\"Cartpole Batch Size = 4000\")\n",
        "plt.legend()"
      ],
      "metadata": {
        "id": "hK9rLSjVR86b"
      },
      "execution_count": null,
      "outputs": []
    },
    {
      "cell_type": "code",
      "source": [
        "cheetah_baseline_loss = pd.read_csv(\"cheetah_baseline_loss.csv\")\n",
        "cheetah_steps = pd.read_csv(\"cheetah_steps.csv\")"
      ],
      "metadata": {
        "id": "45W1tSJ8SIz5"
      },
      "execution_count": null,
      "outputs": []
    },
    {
      "cell_type": "code",
      "source": [
        "sns.lineplot(x = cheetah_steps[\"Value\"], y = cheetah_baseline_loss[\"Value\"])\n",
        "plt.xlabel(\"Training Environment Steps\")\n",
        "plt.ylabel(\"Baseline Loss\")\n",
        "plt.title(\"Cheetah Baseline Loss\")\n",
        "plt.show()"
      ],
      "metadata": {
        "id": "Vnr-IFXSUu8b"
      },
      "execution_count": null,
      "outputs": []
    },
    {
      "cell_type": "code",
      "source": [
        "cheetah_baseline_loss = pd.read_csv(\"cheetah_baseline_return.csv\")\n",
        "sns.lineplot(x = cheetah_steps[\"Value\"], y = cheetah_baseline_loss[\"Value\"])\n",
        "plt.xlabel(\"Training Environment Steps\")\n",
        "plt.ylabel(\"Average Reward\")\n",
        "plt.title(\"Cheetah Average Return\")\n",
        "plt.show()"
      ],
      "metadata": {
        "id": "_PGPlUfTUyl7"
      },
      "execution_count": null,
      "outputs": []
    },
    {
      "cell_type": "code",
      "source": [
        "import numpy as np\n",
        "def f(x):\n",
        "  return (4*(x**2) + 8*x + 1) /(((1-x)**4) * x)\n",
        "\n",
        "def y(x):\n",
        "  return (x**2 + 3 * x + 1) / (((1-x) ** 4) * x)\n",
        "\n",
        "x = np.arange(0, 1, 0.001)\n",
        "plt.figure().set_figwidth(20)\n",
        "sns.lineplot(x = x, y = f(x), label = \"Vanilla Rewards\")\n",
        "sns.lineplot(x = x, y = y(x), label = \"Rewards to Go\")\n",
        "plt.ylim(0, 1e5)"
      ],
      "metadata": {
        "id": "d9Opzg2EWksg"
      },
      "execution_count": null,
      "outputs": []
    },
    {
      "cell_type": "code",
      "source": [
        "l0 = pd.read_csv(\"0.csv\")\n",
        "l95 = pd.read_csv(\"0.95.csv\")\n",
        "l98 = pd.read_csv(\"0.98.csv\")\n",
        "l99 = pd.read_csv(\"0.99.csv\")\n",
        "l1 = pd.read_csv(\"1.csv\")\n",
        "steps = pd.read_csv(\"steps.csv\")[\"Value\"]"
      ],
      "metadata": {
        "id": "GkfDPM6Zulgc"
      },
      "execution_count": null,
      "outputs": []
    },
    {
      "cell_type": "code",
      "source": [
        "from scipy.ndimage.filters import gaussian_filter1d\n",
        "sigma = 2\n",
        "plt.figure().set_figwidth(15)\n",
        "sns.lineplot(x = steps, y = gaussian_filter1d(l0[\"Value\"], sigma), label = \"λ = 0\")\n",
        "sns.lineplot(x = steps, y = gaussian_filter1d(l95[\"Value\"], sigma), label = \"λ = 0.95\")\n",
        "sns.lineplot(x = steps, y = gaussian_filter1d(l98[\"Value\"], sigma), label = \"λ = 0.98\")\n",
        "sns.lineplot(x = steps, y = gaussian_filter1d(l99[\"Value\"], sigma), label = \"λ = 0.99\")\n",
        "sns.lineplot(x = steps, y = gaussian_filter1d(l1[\"Value\"], sigma), label = \"λ = 1\")\n",
        "plt.xlabel(\"Training Environment Steps\")\n",
        "plt.ylabel(\"Average Reward\")\n",
        "\n",
        "plt.title(\"Lunar Lander Rewards Across λ, Smoothed With Gaussian Filter σ = 2\")\n",
        "plt.legend()"
      ],
      "metadata": {
        "id": "zxpzX0Cy-GSj"
      },
      "execution_count": null,
      "outputs": []
    },
    {
      "cell_type": "code",
      "source": [
        "l0 = pd.read_csv(\"ds1.csv\")[\"Value\"]\n",
        "l95 = pd.read_csv(\"ds2.csv\")[\"Value\"]\n",
        "l98 = pd.read_csv(\"ds3.csv\")[\"Value\"]\n",
        "l99 = pd.read_csv(\"ds4.csv\")[\"Value\"]\n",
        "l1 = pd.read_csv(\"ds5.csv\")[\"Value\"]\n",
        "steps = pd.read_csv(\"ds_steps.csv\")[\"Value\"]"
      ],
      "metadata": {
        "id": "2AkZQkQB-jYM"
      },
      "execution_count": null,
      "outputs": []
    },
    {
      "cell_type": "code",
      "source": [
        "sigma = 1\n",
        "sns.lineplot(x = steps, y = (l0 + l95 + l98 + l99 + l1) / 5)\n",
        "plt.xlabel(\"Training Environment Steps\")\n",
        "plt.ylabel(\"Average Reward\")\n",
        "\n",
        "plt.title(\"Inverted Pendelum, Default Hyperparemeters, Averaged Across 5 Seeds\")\n",
        "plt.legend()"
      ],
      "metadata": {
        "id": "3Y_RnlGbJh8r"
      },
      "execution_count": null,
      "outputs": []
    },
    {
      "cell_type": "code",
      "source": [
        "l0 = pd.read_csv(\"mds1.csv\")[\"Value\"]\n",
        "l95 = pd.read_csv(\"mds2.csv\")[\"Value\"]\n",
        "l98 = pd.read_csv(\"mds3.csv\")[\"Value\"]\n",
        "l99 = pd.read_csv(\"mds4.csv\")[\"Value\"]\n",
        "l1 = pd.read_csv(\"mds5.csv\")[\"Value\"]\n",
        "steps = pd.read_csv(\"mdsstep.csv\")[\"Value\"]"
      ],
      "metadata": {
        "id": "RBOixGGjJ2VM"
      },
      "execution_count": null,
      "outputs": []
    },
    {
      "cell_type": "code",
      "source": [
        "sns.lineplot(x = steps, y = (l0 + l95 + l98 + l99 + l1) / 5)\n",
        "plt.xlabel(\"Training Environment Steps\")\n",
        "plt.ylabel(\"Average Reward\")\n",
        "\n",
        "plt.title(\"Inverted Pendelum, New Hyperparameters Averaged Across 5 Seeds\")\n",
        "plt.legend()"
      ],
      "metadata": {
        "id": "weGfsBX-Nx_j"
      },
      "execution_count": null,
      "outputs": []
    },
    {
      "cell_type": "code",
      "source": [],
      "metadata": {
        "id": "QofnNJYQOEif"
      },
      "execution_count": null,
      "outputs": []
    }
  ]
}